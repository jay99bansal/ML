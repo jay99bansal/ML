{
 "cells": [
  {
   "cell_type": "markdown",
   "metadata": {},
   "source": [
    "## k-Nearest Neighbors Classification Algorithm"
   ]
  },
  {
   "cell_type": "markdown",
   "metadata": {},
   "source": [
    "### Distance Metrics"
   ]
  },
  {
   "cell_type": "code",
   "execution_count": 1,
   "metadata": {},
   "outputs": [
    {
     "name": "stdout",
     "output_type": "stream",
     "text": [
      "Distances between points x1 and x2:\n",
      "Euclidean Distance: 1.732\n",
      "Manhattan Distance: 3.000\n",
      "Minkowski Distance (p=3): 1.442\n",
      "Cosine Distance: 0.003\n",
      "Chebyshev Distance: 1.000\n"
     ]
    }
   ],
   "source": [
    "import numpy as np\n",
    "\n",
    "def euclidean_distance(x1, x2):\n",
    "    return np.sqrt(np.sum((x1 - x2) ** 2))\n",
    "\n",
    "def manhattan_distance(x1, x2):\n",
    "    return np.sum(np.abs(x1 - x2))\n",
    "\n",
    "def minkowski_distance(x1, x2, p=3):\n",
    "    return np.sum(np.abs(x1 - x2) ** p) ** (1 / p)\n",
    "\n",
    "def cosine_distance(x1, x2):\n",
    "    dot_product = np.dot(x1, x2)\n",
    "    norm_x1 = np.linalg.norm(x1)\n",
    "    norm_x2 = np.linalg.norm(x2)\n",
    "    return 1 - dot_product / (norm_x1 * norm_x2)\n",
    "\n",
    "def chebyshev_distance(x1, x2):\n",
    "    return np.max(np.abs(x1 - x2))\n",
    "\n",
    "# Define two 3-dimensional data points\n",
    "x1 = np.array([2, 4, 6])\n",
    "x2 = np.array([3, 5, 7])\n",
    "\n",
    "# Calculate distances using the defined functions\n",
    "euclidean_dist = euclidean_distance(x1, x2)\n",
    "manhattan_dist = manhattan_distance(x1, x2)\n",
    "minkowski_dist = minkowski_distance(x1, x2, p=3)  # Using p=3 for Minkowski distance\n",
    "cosine_dist = cosine_distance(x1, x2)\n",
    "chebyshev_dist = chebyshev_distance(x1, x2)\n",
    "\n",
    "# Print the results\n",
    "print(\"Distances between points x1 and x2:\")\n",
    "print(f\"Euclidean Distance: {euclidean_dist:.3f}\")\n",
    "print(f\"Manhattan Distance: {manhattan_dist:.3f}\")\n",
    "print(f\"Minkowski Distance (p=3): {minkowski_dist:.3f}\")\n",
    "print(f\"Cosine Distance: {cosine_dist:.3f}\")\n",
    "print(f\"Chebyshev Distance: {chebyshev_dist:.3f}\")"
   ]
  },
  {
   "cell_type": "markdown",
   "metadata": {},
   "source": [
    "### Algorithm Implementation"
   ]
  },
  {
   "cell_type": "code",
   "execution_count": 2,
   "metadata": {},
   "outputs": [
    {
     "name": "stdout",
     "output_type": "stream",
     "text": [
      "Test Point: [3 2 2]\n",
      "Top k neighbors:\n",
      "Neighbor: [4 2 3], Distance: 1.41, Class: Green\n",
      "Neighbor: [1 3 2], Distance: 2.24, Class: Blue\n",
      "Neighbor: [5 3 2], Distance: 2.24, Class: Green\n",
      "Predicted class: Green\n",
      "\n",
      "Test Point: [2 1 3]\n",
      "Top k neighbors:\n",
      "Neighbor: [1 1 1], Distance: 2.24, Class: Blue\n",
      "Neighbor: [4 2 3], Distance: 2.24, Class: Green\n",
      "Neighbor: [1 3 2], Distance: 2.45, Class: Blue\n",
      "Predicted class: Blue\n",
      "\n"
     ]
    }
   ],
   "source": [
    "from collections import Counter\n",
    "\n",
    "def k_nearest_neighbors(training_data, test_data, k, metric='euclidean', p=3):\n",
    "    distance_func = {\n",
    "        'euclidean': euclidean_distance,\n",
    "        'manhattan': manhattan_distance,\n",
    "        'minkowski': lambda x1, x2: minkowski_distance(x1, x2, p),\n",
    "        'cosine': cosine_distance,\n",
    "        'chebyshev': chebyshev_distance\n",
    "    }\n",
    "\n",
    "    if metric not in distance_func:\n",
    "        raise ValueError(\"Unsupported metric\")\n",
    "\n",
    "    predictions = []\n",
    "    for test_point in test_data:\n",
    "        distances = []\n",
    "        for train_point in training_data:\n",
    "            dist = distance_func[metric](test_point[:-1], train_point[:-1])\n",
    "            distances.append((train_point, dist))\n",
    "        distances.sort(key=lambda x: x[1])\n",
    "        k_nearest = distances[:k]\n",
    "        k_labels = [label[0][-1] for label in k_nearest]\n",
    "        most_common = Counter(k_labels).most_common(1)\n",
    "        predictions.append(most_common[0][0])\n",
    "        \n",
    "        print(f\"Test Point: {test_point[:-1]}\")\n",
    "        print(\"Top k neighbors:\")\n",
    "        for neighbor in k_nearest:\n",
    "            print(f\"Neighbor: {neighbor[0][:-1]}, Distance: {neighbor[1]:.2f}, Class: {neighbor[0][-1]}\")\n",
    "        print(f\"Predicted class: {most_common[0][0]}\\n\")\n",
    "    \n",
    "    return predictions\n",
    "\n",
    "# Example usage\n",
    "training_data = np.array([\n",
    "    [1, 1, 1, 'Blue'],\n",
    "    [1, 3, 2, 'Blue'],\n",
    "    [4, 2, 3, 'Green'],\n",
    "    [5, 3, 2, 'Green'],\n",
    "    [6, 1, 1, 'Red']\n",
    "], dtype=object)\n",
    "\n",
    "test_data = np.array([\n",
    "    [3, 2, 2, '?'],\n",
    "    [2, 1, 3, '?']\n",
    "], dtype=object)\n",
    "\n",
    "# Set the parameters\n",
    "k = 3\n",
    "metric = 'euclidean'  # Can be 'euclidean', 'manhattan', 'minkowski', 'cosine', 'chebyshev'\n",
    "\n",
    "# Classify the test data\n",
    "results = k_nearest_neighbors(training_data, test_data, k, metric)"
   ]
  }
 ],
 "metadata": {
  "kernelspec": {
   "display_name": "Python 3",
   "language": "python",
   "name": "python3"
  },
  "language_info": {
   "codemirror_mode": {
    "name": "ipython",
    "version": 3
   },
   "file_extension": ".py",
   "mimetype": "text/x-python",
   "name": "python",
   "nbconvert_exporter": "python",
   "pygments_lexer": "ipython3",
   "version": "3.9.6"
  }
 },
 "nbformat": 4,
 "nbformat_minor": 2
}
