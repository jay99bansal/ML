{
 "cells": [
  {
   "cell_type": "markdown",
   "metadata": {},
   "source": [
    "## Leave-One-Out Cross Validation"
   ]
  },
  {
   "cell_type": "markdown",
   "metadata": {},
   "source": [
    "### Leave-one-out Manually"
   ]
  },
  {
   "cell_type": "code",
   "execution_count": 7,
   "metadata": {},
   "outputs": [
    {
     "name": "stdout",
     "output_type": "stream",
     "text": [
      "1.670918367346939\n"
     ]
    }
   ],
   "source": [
    "import numpy as np\n",
    "from sklearn.linear_model import LinearRegression\n",
    "from sklearn.metrics import mean_squared_error\n",
    "\n",
    "# Define the dataset\n",
    "X = np.array([[1], [2], [3], [4]])\n",
    "y = np.array([2, 3, 2.5, 5])\n",
    "\n",
    "# Method 1: LOOCV by training 4 models (leave-one-out manually)\n",
    "mse_list = []\n",
    "\n",
    "for i in range(len(X)):\n",
    "    # Leave out the i-th data point\n",
    "    X_train = np.delete(X, i, axis=0)\n",
    "    y_train = np.delete(y, i)\n",
    "    X_test = X[i].reshape(1, -1)\n",
    "    y_test = y[i]\n",
    "    \n",
    "    # Train the model on the remaining data\n",
    "    model = LinearRegression()\n",
    "    model.fit(X_train, y_train)\n",
    "    \n",
    "    # Predict the left-out data point and calculate MSE\n",
    "    y_pred = model.predict(X_test)\n",
    "    mse_list.append((y_test - y_pred[0]) ** 2)\n",
    "\n",
    "# Calculate the average MSE for LOOCV\n",
    "loocv_mse_manual = np.mean(mse_list)\n",
    "print(loocv_mse_manual)\n"
   ]
  },
  {
   "cell_type": "markdown",
   "metadata": {},
   "source": [
    "### Using the Hat Matrix"
   ]
  },
  {
   "cell_type": "code",
   "execution_count": 8,
   "metadata": {},
   "outputs": [
    {
     "name": "stdout",
     "output_type": "stream",
     "text": [
      "1.6709183673469423\n"
     ]
    }
   ],
   "source": [
    "# Method 2: LOOCV MSE using the Hat Matrix formula\n",
    "\n",
    "# Adding intercept term for linear regression\n",
    "X_design = np.c_[np.ones(X.shape[0]), X]  # Design matrix with intercept\n",
    "\n",
    "# Hat Matrix Calculation\n",
    "XtX_inv = np.linalg.inv(X_design.T @ X_design)\n",
    "H = X_design @ XtX_inv @ X_design.T\n",
    "\n",
    "# Calculate the fitted values and residuals\n",
    "beta = XtX_inv @ X_design.T @ y\n",
    "y_hat = X_design @ beta\n",
    "residuals = y - y_hat\n",
    "\n",
    "# Calculate the LOOCV MSE using Hat Matrix diagonal (leverage values)\n",
    "h_diag = np.diag(H)\n",
    "adjusted_residuals = residuals / (1 - h_diag)\n",
    "squared_adjusted_residuals = adjusted_residuals ** 2\n",
    "loocv_mse_hat_matrix = squared_adjusted_residuals.mean()\n",
    "\n",
    "print(loocv_mse_hat_matrix)"
   ]
  }
 ],
 "metadata": {
  "kernelspec": {
   "display_name": "Python 3",
   "language": "python",
   "name": "python3"
  },
  "language_info": {
   "codemirror_mode": {
    "name": "ipython",
    "version": 3
   },
   "file_extension": ".py",
   "mimetype": "text/x-python",
   "name": "python",
   "nbconvert_exporter": "python",
   "pygments_lexer": "ipython3",
   "version": "3.9.6"
  }
 },
 "nbformat": 4,
 "nbformat_minor": 2
}
