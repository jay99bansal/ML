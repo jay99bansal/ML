{
 "cells": [
  {
   "cell_type": "markdown",
   "metadata": {},
   "source": []
  },
  {
   "cell_type": "code",
   "execution_count": 4,
   "metadata": {},
   "outputs": [
    {
     "name": "stderr",
     "output_type": "stream",
     "text": [
      "/Users/jaybansal/Library/Python/3.9/lib/python/site-packages/sklearn/model_selection/_split.py:776: UserWarning: The least populated class in y has only 4 members, which is less than n_splits=5.\n",
      "  warnings.warn(\n"
     ]
    },
    {
     "data": {
      "text/plain": [
       "([1.0, 1.0, 1.0, 1.0, 0.75], 0.95)"
      ]
     },
     "execution_count": 4,
     "metadata": {},
     "output_type": "execute_result"
    }
   ],
   "source": [
    "from sklearn.model_selection import StratifiedKFold\n",
    "from sklearn.linear_model import LogisticRegression\n",
    "from sklearn.metrics import accuracy_score\n",
    "import numpy as np\n",
    "\n",
    "# Create an imbalanced dataset for demonstration\n",
    "# Features (X) - assume these are just example values\n",
    "X = np.array([[1], [2], [3], [4], [5], [6], [7], [8], [9], [10], \n",
    "              [11], [12], [13], [14], [15], [16], [17], [18], [19], [20]])\n",
    "\n",
    "# Labels (y) - imbalanced dataset (16 of class 0, 4 of class 1)\n",
    "y = np.array([0, 0, 0, 0, 0, 0, 0, 0, 0, 0, 0, 0, 0, 0, 0, 0, 1, 1, 1, 1])\n",
    "\n",
    "# Define the number of folds for Stratified K-Fold Cross-Validation\n",
    "k = 5\n",
    "skf = StratifiedKFold(n_splits=k, shuffle=True, random_state=1)\n",
    "\n",
    "# Initialize a list to store accuracy scores for each fold\n",
    "accuracy_scores = []\n",
    "\n",
    "# Perform Stratified K-Fold Cross-Validation\n",
    "for train_index, val_index in skf.split(X, y):\n",
    "    # Split data into training and validation sets\n",
    "    X_train, X_val = X[train_index], X[val_index]\n",
    "    y_train, y_val = y[train_index], y[val_index]\n",
    "    \n",
    "    # Initialize and train the model (Logistic Regression as an example)\n",
    "    model = LogisticRegression()\n",
    "    model.fit(X_train, y_train)\n",
    "    \n",
    "    # Predict on the validation set\n",
    "    y_pred = model.predict(X_val)\n",
    "    \n",
    "    # Calculate accuracy for the current fold and append to list\n",
    "    accuracy = accuracy_score(y_val, y_pred)\n",
    "    accuracy_scores.append(accuracy)\n",
    "\n",
    "# Calculate the average accuracy across all folds\n",
    "average_accuracy = np.mean(accuracy_scores)\n",
    "\n",
    "accuracy_scores, average_accuracy\n"
   ]
  }
 ],
 "metadata": {
  "kernelspec": {
   "display_name": "Python 3",
   "language": "python",
   "name": "python3"
  },
  "language_info": {
   "codemirror_mode": {
    "name": "ipython",
    "version": 3
   },
   "file_extension": ".py",
   "mimetype": "text/x-python",
   "name": "python",
   "nbconvert_exporter": "python",
   "pygments_lexer": "ipython3",
   "version": "3.9.6"
  }
 },
 "nbformat": 4,
 "nbformat_minor": 2
}
