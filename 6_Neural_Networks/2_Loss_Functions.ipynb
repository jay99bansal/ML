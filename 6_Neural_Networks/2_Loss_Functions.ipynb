{
 "cells": [
  {
   "cell_type": "markdown",
   "metadata": {},
   "source": [
    "## Loss Functions"
   ]
  },
  {
   "cell_type": "markdown",
   "metadata": {},
   "source": [
    "### Loss Functions for Regression Task"
   ]
  },
  {
   "cell_type": "code",
   "execution_count": 1,
   "metadata": {},
   "outputs": [
    {
     "name": "stdout",
     "output_type": "stream",
     "text": [
      "Mean Squared Error (MSE): 0.110\n",
      "Mean Absolute Error (MAE): 0.300\n",
      "Huber Loss (delta=0.3): 0.048\n"
     ]
    }
   ],
   "source": [
    "import numpy as np\n",
    "\n",
    "# Actual values\n",
    "y = np.array([3, 5, 2])\n",
    "\n",
    "# Predicted values\n",
    "y_hat = np.array([2.5, 5.2, 1.8])\n",
    "\n",
    "# Huber Loss threshold\n",
    "delta = 0.3\n",
    "\n",
    "# Mean Squared Error (MSE)\n",
    "def mse(y, y_hat):\n",
    "    return np.mean((y - y_hat) ** 2)\n",
    "\n",
    "# Mean Absolute Error (MAE)\n",
    "def mae(y, y_hat):\n",
    "    return np.mean(np.abs(y - y_hat))\n",
    "\n",
    "# Huber Loss\n",
    "def huber_loss(y, y_hat, delta):\n",
    "    error = y - y_hat\n",
    "    is_small_error = np.abs(error) <= delta\n",
    "    small_error_loss = 0.5 * error[is_small_error] ** 2\n",
    "    large_error_loss = delta * (np.abs(error[~is_small_error]) - 0.5 * delta)\n",
    "    return np.mean(np.concatenate([small_error_loss, large_error_loss]))\n",
    "\n",
    "# Calculate losses\n",
    "mse_value = mse(y, y_hat)\n",
    "mae_value = mae(y, y_hat)\n",
    "huber_loss_value = huber_loss(y, y_hat, delta)\n",
    "\n",
    "# Display results\n",
    "print(f\"Mean Squared Error (MSE): {mse_value:.3f}\")\n",
    "print(f\"Mean Absolute Error (MAE): {mae_value:.3f}\")\n",
    "print(f\"Huber Loss (delta={delta}): {huber_loss_value:.3f}\")\n"
   ]
  },
  {
   "cell_type": "markdown",
   "metadata": {},
   "source": [
    "### Loss Functions for Classification Task"
   ]
  },
  {
   "cell_type": "markdown",
   "metadata": {},
   "source": [
    "#### Binary Cross Entropy loss"
   ]
  },
  {
   "cell_type": "code",
   "execution_count": 2,
   "metadata": {},
   "outputs": [
    {
     "name": "stdout",
     "output_type": "stream",
     "text": [
      "Binary Cross-Entropy Loss: 0.2027\n"
     ]
    }
   ],
   "source": [
    "import numpy as np\n",
    "\n",
    "# True labels\n",
    "y = np.array([1, 0, 1, 1, 0])\n",
    "\n",
    "# Predicted probabilities\n",
    "y_hat = np.array([0.9, 0.1, 0.8, 0.7, 0.2])\n",
    "\n",
    "# Binary Cross-Entropy Loss\n",
    "def binary_cross_entropy(y, y_hat):\n",
    "    # To prevent log(0), clip predictions to a small range [epsilon, 1-epsilon]\n",
    "    epsilon = 1e-15\n",
    "    y_hat = np.clip(y_hat, epsilon, 1 - epsilon)\n",
    "    \n",
    "    # Binary Cross-Entropy formula\n",
    "    loss = -np.mean(y * np.log(y_hat) + (1 - y) * np.log(1 - y_hat))\n",
    "    return loss\n",
    "\n",
    "# Calculate the loss\n",
    "bce_loss = binary_cross_entropy(y, y_hat)\n",
    "\n",
    "# Display result\n",
    "print(f\"Binary Cross-Entropy Loss: {bce_loss:.4f}\")\n"
   ]
  },
  {
   "cell_type": "markdown",
   "metadata": {},
   "source": [
    "#### Categorical Cross Entropy Loss"
   ]
  },
  {
   "cell_type": "code",
   "execution_count": 3,
   "metadata": {},
   "outputs": [
    {
     "name": "stdout",
     "output_type": "stream",
     "text": [
      "Categorical Cross-Entropy Loss: 0.3122\n"
     ]
    }
   ],
   "source": [
    "import numpy as np\n",
    "\n",
    "# True labels (one-hot encoded)\n",
    "y = np.array([\n",
    "    [1, 0, 0],  # Class 0\n",
    "    [0, 1, 0],  # Class 1\n",
    "    [0, 0, 1]   # Class 2\n",
    "])\n",
    "\n",
    "# Predicted probabilities\n",
    "y_hat = np.array([\n",
    "    [0.8, 0.1, 0.1],  # Predictions for sample 1\n",
    "    [0.2, 0.7, 0.1],  # Predictions for sample 2\n",
    "    [0.1, 0.2, 0.7]   # Predictions for sample 3\n",
    "])\n",
    "\n",
    "# Categorical Cross-Entropy Loss\n",
    "def categorical_cross_entropy(y, y_hat):\n",
    "    # Clip predicted probabilities to prevent log(0)\n",
    "    epsilon = 1e-15\n",
    "    y_hat = np.clip(y_hat, epsilon, 1 - epsilon)\n",
    "    \n",
    "    # Compute loss\n",
    "    loss = -np.sum(y * np.log(y_hat)) / y.shape[0]\n",
    "    return loss\n",
    "\n",
    "# Calculate the loss\n",
    "cce_loss = categorical_cross_entropy(y, y_hat)\n",
    "\n",
    "# Display result\n",
    "print(f\"Categorical Cross-Entropy Loss: {cce_loss:.4f}\")\n"
   ]
  },
  {
   "cell_type": "markdown",
   "metadata": {},
   "source": [
    "#### Hinge Loss"
   ]
  },
  {
   "cell_type": "code",
   "execution_count": 5,
   "metadata": {},
   "outputs": [
    {
     "name": "stdout",
     "output_type": "stream",
     "text": [
      "Hinge Loss: 0.5200\n"
     ]
    }
   ],
   "source": [
    "import numpy as np\n",
    "\n",
    "# True labels (y): Should be +1 or -1 for hinge loss\n",
    "y = np.array([1, -1, 1, 1, -1])\n",
    "\n",
    "# Predicted scores (y_hat): Raw scores (not probabilities)\n",
    "y_hat = np.array([0.8, -0.9, -0.3, 0.7, -0.3])\n",
    "\n",
    "# Hinge Loss\n",
    "def hinge_loss(y, y_hat):\n",
    "    # Compute loss for each sample\n",
    "    loss_per_sample = np.maximum(0, 1 - y * y_hat)\n",
    "    \n",
    "    # Average the loss over all samples\n",
    "    return np.mean(loss_per_sample)\n",
    "\n",
    "# Calculate the hinge loss\n",
    "hinge_loss_value = hinge_loss(y, y_hat)\n",
    "\n",
    "# Display result\n",
    "print(f\"Hinge Loss: {hinge_loss_value:.4f}\")"
   ]
  }
 ],
 "metadata": {
  "kernelspec": {
   "display_name": "Python 3",
   "language": "python",
   "name": "python3"
  },
  "language_info": {
   "codemirror_mode": {
    "name": "ipython",
    "version": 3
   },
   "file_extension": ".py",
   "mimetype": "text/x-python",
   "name": "python",
   "nbconvert_exporter": "python",
   "pygments_lexer": "ipython3",
   "version": "3.9.6"
  }
 },
 "nbformat": 4,
 "nbformat_minor": 2
}
