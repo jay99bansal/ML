{
 "cells": [
  {
   "cell_type": "markdown",
   "metadata": {},
   "source": [
    "## Multi-Layer Perceptron"
   ]
  },
  {
   "cell_type": "code",
   "execution_count": 1,
   "metadata": {},
   "outputs": [
    {
     "name": "stdout",
     "output_type": "stream",
     "text": [
      "Predicted Output: [0.57566435]\n"
     ]
    }
   ],
   "source": [
    "import numpy as np\n",
    "\n",
    "# Activation Functions\n",
    "def relu(x):\n",
    "    \"\"\"ReLU Activation Function\"\"\"\n",
    "    return np.maximum(0, x)\n",
    "\n",
    "def relu_derivative(x):\n",
    "    \"\"\"Derivative of ReLU\"\"\"\n",
    "    return np.where(x > 0, 1, 0)\n",
    "\n",
    "def sigmoid(x):\n",
    "    \"\"\"Sigmoid Activation Function\"\"\"\n",
    "    return 1 / (1 + np.exp(-x))\n",
    "\n",
    "# MLP Forward Propagation\n",
    "def forward_propagation(X, weights, biases, activations):\n",
    "    \"\"\"Compute the forward pass of the MLP\"\"\"\n",
    "    layer_outputs = [X]  # Store outputs of each layer (including input layer)\n",
    "    \n",
    "    for l in range(len(weights)):\n",
    "        # Compute the weighted sum: z = W * a_prev + b\n",
    "        z = np.dot(weights[l], layer_outputs[-1]) + biases[l]\n",
    "        \n",
    "        # Apply the activation function\n",
    "        if activations[l] == \"relu\":\n",
    "            a = relu(z)\n",
    "        elif activations[l] == \"sigmoid\":\n",
    "            a = sigmoid(z)\n",
    "        else:\n",
    "            raise ValueError(\"Unsupported activation function\")\n",
    "        \n",
    "        # Store the activation output\n",
    "        layer_outputs.append(a)\n",
    "    \n",
    "    return layer_outputs\n",
    "\n",
    "# Example Input\n",
    "X = np.array([2, 3])  # Study hours = 2, Sleep hours = 3\n",
    "\n",
    "# Weight Matrices\n",
    "weights = [\n",
    "    np.array([[0.5, -0.3], [0.8, 0.1], [0.2, 0.4]]),   # W[1]\n",
    "    np.array([[-0.8, 0.2, 0.1], [0.3, -0.5, 0.2]]),    # W[2]\n",
    "    np.array([[0.7, 0.3]])                             # W[3]\n",
    "]\n",
    "\n",
    "# Bias Vectors\n",
    "biases = [\n",
    "    np.array([0.1, 0.2, 0.3]),   # b[1]\n",
    "    np.array([0.7, -0.8]),       # b[2]\n",
    "    np.array([-0.5])             # b[3]\n",
    "]\n",
    "\n",
    "# Activation Functions for Each Layer\n",
    "activations = [\"relu\", \"relu\", \"sigmoid\"]\n",
    "\n",
    "# Perform Forward Propagation\n",
    "layer_outputs = forward_propagation(X, weights, biases, activations)\n",
    "\n",
    "# Predicted Output\n",
    "predicted_output = layer_outputs[-1]\n",
    "print(\"Predicted Output:\", predicted_output)\n"
   ]
  }
 ],
 "metadata": {
  "kernelspec": {
   "display_name": "Python 3",
   "language": "python",
   "name": "python3"
  },
  "language_info": {
   "codemirror_mode": {
    "name": "ipython",
    "version": 3
   },
   "file_extension": ".py",
   "mimetype": "text/x-python",
   "name": "python",
   "nbconvert_exporter": "python",
   "pygments_lexer": "ipython3",
   "version": "3.9.6"
  }
 },
 "nbformat": 4,
 "nbformat_minor": 2
}
