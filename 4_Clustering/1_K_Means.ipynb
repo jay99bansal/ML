{
 "cells": [
  {
   "cell_type": "markdown",
   "metadata": {},
   "source": [
    "## K-Means Clustering"
   ]
  },
  {
   "cell_type": "markdown",
   "metadata": {},
   "source": [
    "### Using Eucledian Distance"
   ]
  },
  {
   "cell_type": "code",
   "execution_count": 7,
   "metadata": {},
   "outputs": [
    {
     "name": "stdout",
     "output_type": "stream",
     "text": [
      "K-Means clustering iterations saved as PNG files.\n"
     ]
    }
   ],
   "source": [
    "import numpy as np\n",
    "import matplotlib.pyplot as plt\n",
    "\n",
    "class KMeans:\n",
    "    def __init__(self, n_clusters, max_iters=100):\n",
    "        self.n_clusters = n_clusters\n",
    "        self.max_iters = max_iters\n",
    "        self.history = []  # To store the history of centroids and labels for plotting\n",
    "\n",
    "    def fit(self, X):\n",
    "        # Randomly initialize centroids\n",
    "        np.random.seed(43)\n",
    "        random_indices = np.random.choice(len(X), self.n_clusters, replace=False)\n",
    "        self.centroids = X[random_indices]\n",
    "\n",
    "        for _ in range(self.max_iters):\n",
    "            # Assign clusters\n",
    "            distances = self._compute_distances(X)\n",
    "            self.labels = np.argmin(distances, axis=1)\n",
    "\n",
    "            # Store current state for plotting\n",
    "            self.history.append((X.copy(), self.centroids.copy(), self.labels.copy()))\n",
    "\n",
    "            # Update centroids\n",
    "            new_centroids = np.array([X[self.labels == i].mean(axis=0) for i in range(self.n_clusters)])\n",
    "\n",
    "            # Check for convergence\n",
    "            if np.all(self.centroids == new_centroids):\n",
    "                break\n",
    "\n",
    "            self.centroids = new_centroids\n",
    "\n",
    "    def _compute_distances(self, X):\n",
    "        return np.linalg.norm(X[:, np.newaxis] - self.centroids, axis=2)\n",
    "\n",
    "    def predict(self, X):\n",
    "        distances = self._compute_distances(X)\n",
    "        return np.argmin(distances, axis=1)\n",
    "\n",
    "def generate_data(n_samples=100):\n",
    "    \"\"\"Generate synthetic data for clustering.\"\"\"\n",
    "    np.random.seed(0)\n",
    "    cluster_1 = np.random.normal(loc=0, scale=0.5, size=(n_samples // 2, 2))\n",
    "    cluster_2 = np.random.normal(loc=3, scale=0.5, size=(n_samples // 2, 2))\n",
    "    return np.vstack((cluster_1, cluster_2))\n",
    "\n",
    "def plot_kmeans_iterations(history):\n",
    "    \"\"\"Plot K-Means clustering iterations.\"\"\"\n",
    "    for i, (X, centroids, labels) in enumerate(history):\n",
    "        plt.figure(figsize=(8, 6))\n",
    "        plt.scatter(X[:, 0], X[:, 1], c=labels, cmap='viridis', alpha=0.6)\n",
    "        plt.scatter(centroids[:, 0], centroids[:, 1], c='red', marker='X', s=200, label='Centroids')\n",
    "        plt.title(f\"K-Means Clustering - Iteration {i + 1}\")\n",
    "        plt.xlabel(\"Feature 1\")\n",
    "        plt.ylabel(\"Feature 2\")\n",
    "        plt.legend()\n",
    "        plt.grid(True)\n",
    "        plt.savefig(f\"k_means_out/kmeans_iteration_{i + 1}.png\")  # Save each plot as a PNG file\n",
    "        plt.close()  # Close the plot to save memory\n",
    "\n",
    "# Generate synthetic data\n",
    "X = generate_data(n_samples=100)\n",
    "\n",
    "# Run K-Means\n",
    "kmeans = KMeans(n_clusters=2)\n",
    "kmeans.fit(X)\n",
    "\n",
    "# Plot the iterations\n",
    "plot_kmeans_iterations(kmeans.history)\n",
    "\n",
    "print(\"K-Means clustering iterations saved as PNG files.\")\n"
   ]
  }
 ],
 "metadata": {
  "kernelspec": {
   "display_name": "Python 3",
   "language": "python",
   "name": "python3"
  },
  "language_info": {
   "codemirror_mode": {
    "name": "ipython",
    "version": 3
   },
   "file_extension": ".py",
   "mimetype": "text/x-python",
   "name": "python",
   "nbconvert_exporter": "python",
   "pygments_lexer": "ipython3",
   "version": "3.9.6"
  }
 },
 "nbformat": 4,
 "nbformat_minor": 2
}
