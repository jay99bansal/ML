{
 "cells": [
  {
   "cell_type": "markdown",
   "metadata": {},
   "source": [
    "## K-Medoids Clustering"
   ]
  },
  {
   "cell_type": "markdown",
   "metadata": {},
   "source": [
    "### Using Manhattan Distance"
   ]
  },
  {
   "cell_type": "code",
   "execution_count": 3,
   "metadata": {},
   "outputs": [
    {
     "name": "stdout",
     "output_type": "stream",
     "text": [
      "K-Medoids clustering iterations saved as PNG files.\n"
     ]
    }
   ],
   "source": [
    "import numpy as np\n",
    "import matplotlib.pyplot as plt\n",
    "\n",
    "class KMedoids:\n",
    "    def __init__(self, n_clusters, max_iters=100):\n",
    "        self.n_clusters = n_clusters\n",
    "        self.max_iters = max_iters\n",
    "        self.history = []  # To store the history of medoids and labels for plotting\n",
    "\n",
    "    def fit(self, X):\n",
    "        # Randomly initialize medoids\n",
    "        np.random.seed(41)\n",
    "        random_indices = np.random.choice(len(X), self.n_clusters, replace=False)\n",
    "        self.medoids = X[random_indices]\n",
    "\n",
    "        for _ in range(self.max_iters):\n",
    "            # Assign clusters\n",
    "            distances = self._compute_distances(X)\n",
    "            self.labels = np.argmin(distances, axis=1)\n",
    "\n",
    "            # Store current state for plotting\n",
    "            self.history.append((X.copy(), self.medoids.copy(), self.labels.copy()))\n",
    "\n",
    "            # Update medoids\n",
    "            new_medoids = np.array([self._find_best_medoid(X[self.labels == i]) for i in range(self.n_clusters)])\n",
    "\n",
    "            # Check for convergence\n",
    "            if np.all(self.medoids == new_medoids):\n",
    "                break\n",
    "\n",
    "            self.medoids = new_medoids\n",
    "\n",
    "    def _compute_distances(self, X):\n",
    "        \"\"\"Compute Manhattan distances from data points to medoids.\"\"\"\n",
    "        distances = np.zeros((X.shape[0], self.n_clusters))\n",
    "        for i in range(self.n_clusters):\n",
    "            distances[:, i] = np.sum(np.abs(X - self.medoids[i]), axis=1)\n",
    "        return distances\n",
    "\n",
    "    def _find_best_medoid(self, cluster):\n",
    "        \"\"\"Find the best medoid in a given cluster.\"\"\"\n",
    "        distances = np.sum(self._compute_distances(cluster), axis=1)\n",
    "        return cluster[np.argmin(distances)]\n",
    "\n",
    "    def predict(self, X):\n",
    "        distances = self._compute_distances(X)\n",
    "        return np.argmin(distances, axis=1)\n",
    "\n",
    "def generate_data(n_samples=100):\n",
    "    \"\"\"Generate synthetic data for clustering.\"\"\"\n",
    "    np.random.seed(0)\n",
    "    cluster_1 = np.random.normal(loc=0, scale=0.5, size=(n_samples // 2, 2))\n",
    "    cluster_2 = np.random.normal(loc=3, scale=0.5, size=(n_samples // 2, 2))\n",
    "    return np.vstack((cluster_1, cluster_2))\n",
    "\n",
    "def plot_kmedoids_iterations(history):\n",
    "    \"\"\"Plot K-Medoids clustering iterations.\"\"\"\n",
    "    for i, (X, medoids, labels) in enumerate(history):\n",
    "        plt.figure(figsize=(8, 6))\n",
    "        plt.scatter(X[:, 0], X[:, 1], c=labels, cmap='viridis', alpha=0.6)\n",
    "        plt.scatter(medoids[:, 0], medoids[:, 1], c='red', marker='X', s=200, label='Medoids')\n",
    "        plt.title(f\"K-Medoids Clustering - Iteration {i + 1}\")\n",
    "        plt.xlabel(\"Feature 1\")\n",
    "        plt.ylabel(\"Feature 2\")\n",
    "        plt.legend()\n",
    "        plt.grid(True)\n",
    "        plt.savefig(f\"k_medoids_out/kmedoids_iteration_{i + 1}.png\")  # Save each plot as a PNG file\n",
    "        plt.close()  # Close the plot to save memory\n",
    "\n",
    "# Generate synthetic data\n",
    "X = generate_data(n_samples=100)\n",
    "\n",
    "# Run K-Medoids\n",
    "kmedoids = KMedoids(n_clusters=2)\n",
    "kmedoids.fit(X)\n",
    "\n",
    "# Plot the iterations\n",
    "plot_kmedoids_iterations(kmedoids.history)\n",
    "\n",
    "print(\"K-Medoids clustering iterations saved as PNG files.\")\n"
   ]
  }
 ],
 "metadata": {
  "kernelspec": {
   "display_name": "Python 3",
   "language": "python",
   "name": "python3"
  },
  "language_info": {
   "codemirror_mode": {
    "name": "ipython",
    "version": 3
   },
   "file_extension": ".py",
   "mimetype": "text/x-python",
   "name": "python",
   "nbconvert_exporter": "python",
   "pygments_lexer": "ipython3",
   "version": "3.9.6"
  }
 },
 "nbformat": 4,
 "nbformat_minor": 2
}
