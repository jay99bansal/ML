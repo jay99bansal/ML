{
 "cells": [
  {
   "cell_type": "markdown",
   "metadata": {},
   "source": [
    "## Evaluating Clustering Algorithms - Extrinsic Metrics"
   ]
  },
  {
   "cell_type": "markdown",
   "metadata": {},
   "source": [
    "### Contingency Matrix"
   ]
  },
  {
   "cell_type": "code",
   "execution_count": 1,
   "metadata": {},
   "outputs": [
    {
     "data": {
      "image/png": "[encoded data removed]",
      "text/plain": [
       "<Figure size 800x600 with 1 Axes>"
      ]
     },
     "metadata": {},
     "output_type": "display_data"
    },
    {
     "name": "stdout",
     "output_type": "stream",
     "text": [
      "True Label  Class 1  Class 2  Class 3\n",
      "Cluster                              \n",
      "Cluster 1         5        1        0\n",
      "Cluster 2         1        3        1\n",
      "Cluster 3         0        2        3\n"
     ]
    }
   ],
   "source": [
    "import pandas as pd\n",
    "from sklearn.metrics import confusion_matrix\n",
    "import seaborn as sns\n",
    "import matplotlib.pyplot as plt\n",
    "\n",
    "# Sample dataset creation based on the provided contingency matrix\n",
    "data = {\n",
    "    \"Cluster\": [\"Cluster 1\"] * 5 + [\"Cluster 1\"] * 1 + [\"Cluster 2\"] * 1 + [\"Cluster 2\"] * 3 + [\"Cluster 2\"] * 1 + [\"Cluster 3\"] * 2 + [\"Cluster 3\"] * 3,\n",
    "    \"True Label\": [\"Class 1\"] * 5 + [\"Class 2\"] * 1 + [\"Class 1\"] * 1 + [\"Class 2\"] * 3 + [\"Class 3\"] * 1 + [\"Class 2\"] * 2 + [\"Class 3\"] * 3\n",
    "}\n",
    "\n",
    "# Convert to DataFrame\n",
    "df = pd.DataFrame(data)\n",
    "\n",
    "# Display contingency matrix (confusion matrix) using sklearn and seaborn\n",
    "def display_contingency_matrix(df, cluster_column, label_column):\n",
    "    # Generate contingency matrix\n",
    "    contingency = pd.crosstab(df[cluster_column], df[label_column])\n",
    "    \n",
    "    # Plot the contingency matrix\n",
    "    plt.figure(figsize=(8, 6))\n",
    "    sns.heatmap(contingency, annot=True, fmt=\"d\", cmap=\"Blues\", cbar=False)\n",
    "    plt.title(\"Contingency Matrix\")\n",
    "    plt.xlabel(\"True Label\")\n",
    "    plt.ylabel(\"Cluster\")\n",
    "    plt.show()\n",
    "    \n",
    "    return contingency\n",
    "\n",
    "# Call the function and display the contingency matrix\n",
    "contingency_matrix_result = display_contingency_matrix(df, \"Cluster\", \"True Label\")\n",
    "print(contingency_matrix_result)\n"
   ]
  },
  {
   "cell_type": "markdown",
   "metadata": {},
   "source": [
    "### Purity"
   ]
  },
  {
   "cell_type": "code",
   "execution_count": 2,
   "metadata": {},
   "outputs": [
    {
     "name": "stdout",
     "output_type": "stream",
     "text": [
      "Purity of each cluster:\n",
      "Cluster 1: 0.8333\n",
      "Cluster 2: 0.6000\n",
      "Cluster 3: 0.6000\n",
      "\n",
      "Overall Purity: 0.6875\n"
     ]
    }
   ],
   "source": [
    "# Function to calculate and print purity for each cluster and overall purity\n",
    "def calculate_purity(df, cluster_column, label_column):\n",
    "    # Generate the contingency matrix\n",
    "    contingency = pd.crosstab(df[cluster_column], df[label_column])\n",
    "    \n",
    "    # Initialize variables for calculating overall purity\n",
    "    total_points = len(df)\n",
    "    weighted_purity_sum = 0\n",
    "\n",
    "    print(\"Purity of each cluster:\")\n",
    "    \n",
    "    # Calculate purity for each cluster\n",
    "    for cluster, row in contingency.iterrows():\n",
    "        cluster_size = row.sum()\n",
    "        max_class_count = row.max()\n",
    "        cluster_purity = max_class_count / cluster_size\n",
    "        weighted_purity_sum += max_class_count\n",
    "        print(f\"{cluster}: {cluster_purity:.4f}\")\n",
    "    \n",
    "    # Calculate overall purity\n",
    "    overall_purity = weighted_purity_sum / total_points\n",
    "    print(f\"\\nOverall Purity: {overall_purity:.4f}\")\n",
    "\n",
    "# Call the function with the generated dataset\n",
    "calculate_purity(df, \"Cluster\", \"True Label\")\n"
   ]
  },
  {
   "cell_type": "markdown",
   "metadata": {},
   "source": [
    "### Rand Index"
   ]
  },
  {
   "cell_type": "code",
   "execution_count": 4,
   "metadata": {},
   "outputs": [
    {
     "name": "stdout",
     "output_type": "stream",
     "text": [
      "Rand Index: 0.6917\n"
     ]
    }
   ],
   "source": [
    "import pandas as pd\n",
    "from scipy.special import comb\n",
    "\n",
    "# Function to calculate and print Rand Index for clustering\n",
    "def calculate_rand_index(df, cluster_column, label_column):\n",
    "    # Generate the contingency matrix\n",
    "    contingency = pd.crosstab(df[cluster_column], df[label_column])\n",
    "    \n",
    "    # Total number of data points\n",
    "    total_points = len(df)\n",
    "    total_pairs = comb(total_points, 2)\n",
    "    \n",
    "    # Calculate True Positives (TP): Pairs in the same cluster and same class\n",
    "    tp = sum(comb(n_ij, 2) for n_ij in contingency.values.flatten() if n_ij >= 2)\n",
    "    \n",
    "    # Calculate pairs within the same cluster (regardless of class) for False Positives (FP)\n",
    "    sum_ai_2 = sum(comb(row_sum, 2) for row_sum in contingency.sum(axis=1) if row_sum >= 2)\n",
    "    fp = sum_ai_2 - tp  # FP are same-cluster, different-class pairs\n",
    "    \n",
    "    # Calculate pairs within the same class (regardless of cluster) for False Negatives (FN)\n",
    "    sum_bj_2 = sum(comb(col_sum, 2) for col_sum in contingency.sum(axis=0) if col_sum >= 2)\n",
    "    fn = sum_bj_2 - tp  # FN are same-class, different-cluster pairs\n",
    "    \n",
    "    # True Negatives (TN): Pairs in different clusters and different classes\n",
    "    tn = total_pairs - (tp + fp + fn)\n",
    "    \n",
    "    # Calculate the Rand Index\n",
    "    rand_index = (tp + tn) / total_pairs\n",
    "    \n",
    "    print(f\"Rand Index: {rand_index:.4f}\")\n",
    "\n",
    "# Call the function with the generated dataset\n",
    "calculate_rand_index(df, \"Cluster\", \"True Label\")"
   ]
  },
  {
   "cell_type": "markdown",
   "metadata": {},
   "source": [
    "### Adjusted Rand Index"
   ]
  },
  {
   "cell_type": "code",
   "execution_count": 3,
   "metadata": {},
   "outputs": [
    {
     "name": "stdout",
     "output_type": "stream",
     "text": [
      "Adjusted Rand Index (ARI): 0.2600\n"
     ]
    }
   ],
   "source": [
    "import pandas as pd\n",
    "from scipy.special import comb\n",
    "\n",
    "# Sample dataset creation based on the provided contingency matrix\n",
    "data = {\n",
    "    \"Cluster\": [\"Cluster 1\"] * 5 + [\"Cluster 1\"] * 1 + [\"Cluster 2\"] * 1 + [\"Cluster 2\"] * 3 + [\"Cluster 2\"] * 1 + [\"Cluster 3\"] * 2 + [\"Cluster 3\"] * 3,\n",
    "    \"True Label\": [\"Class 1\"] * 5 + [\"Class 2\"] * 1 + [\"Class 1\"] * 1 + [\"Class 2\"] * 3 + [\"Class 3\"] * 1 + [\"Class 2\"] * 2 + [\"Class 3\"] * 3\n",
    "}\n",
    "\n",
    "# Convert to DataFrame\n",
    "df = pd.DataFrame(data)\n",
    "\n",
    "# Function to calculate and print Adjusted Rand Index (ARI) for clustering\n",
    "def calculate_ari(df, cluster_column, label_column):\n",
    "    # Generate the contingency matrix\n",
    "    contingency = pd.crosstab(df[cluster_column], df[label_column])\n",
    "    \n",
    "    # Total number of data points\n",
    "    total_points = len(df)\n",
    "    total_pairs = comb(total_points, 2)\n",
    "    \n",
    "    # Calculate each component for the ARI formula\n",
    "    sum_nij_2 = sum(comb(n_ij, 2) for n_ij in contingency.values.flatten() if n_ij >= 2)\n",
    "    sum_ai_2 = sum(comb(row_sum, 2) for row_sum in contingency.sum(axis=1) if row_sum >= 2)\n",
    "    sum_bj_2 = sum(comb(col_sum, 2) for col_sum in contingency.sum(axis=0) if col_sum >= 2)\n",
    "    \n",
    "    # Expected index calculation\n",
    "    expected_index = (sum_ai_2 * sum_bj_2) / total_pairs\n",
    "    \n",
    "    # Calculate the ARI numerator and denominator\n",
    "    numerator = sum_nij_2 - expected_index\n",
    "    denominator = 0.5 * (sum_ai_2 + sum_bj_2) - expected_index\n",
    "    \n",
    "    # Adjusted Rand Index\n",
    "    ari = numerator / denominator if denominator != 0 else 1.0\n",
    "    \n",
    "    print(f\"Adjusted Rand Index (ARI): {ari:.4f}\")\n",
    "\n",
    "# Call the function with the generated dataset\n",
    "calculate_ari(df, \"Cluster\", \"True Label\")\n"
   ]
  },
  {
   "cell_type": "markdown",
   "metadata": {},
   "source": [
    "### Normalized Mutual Information"
   ]
  },
  {
   "cell_type": "code",
   "execution_count": 5,
   "metadata": {},
   "outputs": [
    {
     "name": "stdout",
     "output_type": "stream",
     "text": [
      "Normalized Mutual Information (NMI): 0.3730\n"
     ]
    }
   ],
   "source": [
    "import pandas as pd\n",
    "import numpy as np\n",
    "\n",
    "# Sample dataset creation based on the provided contingency matrix\n",
    "data = {\n",
    "    \"Cluster\": [\"Cluster 1\"] * 5 + [\"Cluster 1\"] * 1 + [\"Cluster 2\"] * 1 + [\"Cluster 2\"] * 3 + [\"Cluster 2\"] * 1 + [\"Cluster 3\"] * 2 + [\"Cluster 3\"] * 3,\n",
    "    \"True Label\": [\"Class 1\"] * 5 + [\"Class 2\"] * 1 + [\"Class 1\"] * 1 + [\"Class 2\"] * 3 + [\"Class 3\"] * 1 + [\"Class 2\"] * 2 + [\"Class 3\"] * 3\n",
    "}\n",
    "\n",
    "# Convert to DataFrame\n",
    "df = pd.DataFrame(data)\n",
    "\n",
    "# Function to calculate and print Normalized Mutual Information (NMI) for clustering\n",
    "def calculate_nmi(df, cluster_column, label_column):\n",
    "    # Generate the contingency matrix\n",
    "    contingency = pd.crosstab(df[cluster_column], df[label_column])\n",
    "    \n",
    "    # Total number of data points\n",
    "    total_points = len(df)\n",
    "    \n",
    "    # Calculate Mutual Information (MI)\n",
    "    mi = 0\n",
    "    for i in range(contingency.shape[0]):\n",
    "        for j in range(contingency.shape[1]):\n",
    "            n_ij = contingency.iat[i, j]\n",
    "            if n_ij > 0:\n",
    "                n_i = contingency.iloc[i].sum()\n",
    "                n_j = contingency.iloc[:, j].sum()\n",
    "                mi += (n_ij / total_points) * np.log((n_ij * total_points) / (n_i * n_j))\n",
    "    \n",
    "    # Calculate Entropy H(U) for clusters\n",
    "    h_u = -sum((contingency.iloc[i].sum() / total_points) * np.log(contingency.iloc[i].sum() / total_points)\n",
    "               for i in range(contingency.shape[0]) if contingency.iloc[i].sum() > 0)\n",
    "    \n",
    "    # Calculate Entropy H(V) for true labels\n",
    "    h_v = -sum((contingency.iloc[:, j].sum() / total_points) * np.log(contingency.iloc[:, j].sum() / total_points)\n",
    "               for j in range(contingency.shape[1]) if contingency.iloc[:, j].sum() > 0)\n",
    "    \n",
    "    # Calculate Normalized Mutual Information (NMI)\n",
    "    nmi = (2 * mi) / (h_u + h_v) if (h_u + h_v) > 0 else 1.0\n",
    "    \n",
    "    print(f\"Normalized Mutual Information (NMI): {nmi:.4f}\")\n",
    "\n",
    "# Call the function with the generated dataset\n",
    "calculate_nmi(df, \"Cluster\", \"True Label\")\n"
   ]
  }
 ],
 "metadata": {
  "kernelspec": {
   "display_name": "Python 3",
   "language": "python",
   "name": "python3"
  },
  "language_info": {
   "codemirror_mode": {
    "name": "ipython",
    "version": 3
   },
   "file_extension": ".py",
   "mimetype": "text/x-python",
   "name": "python",
   "nbconvert_exporter": "python",
   "pygments_lexer": "ipython3",
   "version": "3.9.6"
  }
 },
 "nbformat": 4,
 "nbformat_minor": 2
}
