{
 "cells": [
  {
   "cell_type": "markdown",
   "metadata": {},
   "source": [
    "## Evaluating Clustering Algorithms - Intrinsic Metrics"
   ]
  },
  {
   "cell_type": "markdown",
   "metadata": {},
   "source": [
    "### Silhouette Score"
   ]
  },
  {
   "cell_type": "code",
   "execution_count": 1,
   "metadata": {},
   "outputs": [
    {
     "name": "stdout",
     "output_type": "stream",
     "text": [
      "Point 1: Silhouette Score = 0.7184\n",
      "Point 2: Silhouette Score = 0.7039\n",
      "Point 3: Silhouette Score = 0.4870\n",
      "Point 4: Silhouette Score = 0.6125\n",
      "Point 5: Silhouette Score = 0.6626\n",
      "Point 6: Silhouette Score = 0.4056\n",
      "Point 7: Silhouette Score = 0.6185\n",
      "Point 8: Silhouette Score = 0.6372\n",
      "Point 9: Silhouette Score = 0.6879\n",
      "\n",
      "Average Silhouette Score: 0.6149\n"
     ]
    }
   ],
   "source": [
    "import numpy as np\n",
    "\n",
    "# Define the points in each cluster\n",
    "cluster_1 = np.array([(2, 5), (3, 4), (4, 6)])\n",
    "cluster_2 = np.array([(8, 3), (9, 2), (10, 5)])\n",
    "cluster_3 = np.array([(6, 10), (7, 8), (8, 9)])\n",
    "\n",
    "# Combine all points into one dataset\n",
    "all_points = np.vstack((cluster_1, cluster_2, cluster_3))\n",
    "\n",
    "# Function to calculate Euclidean distance\n",
    "def euclidean_distance(point1, point2):\n",
    "    return np.sqrt(np.sum((point1 - point2) ** 2))\n",
    "\n",
    "# Function to calculate the silhouette score for each point\n",
    "def silhouette_score(all_points, labels):\n",
    "    scores = []\n",
    "    n = len(all_points)\n",
    "\n",
    "    for i in range(n):\n",
    "        # Find the current point\n",
    "        current_point = all_points[i]\n",
    "        \n",
    "        # Find the label of the current point\n",
    "        current_label = labels[i]\n",
    "        \n",
    "        # Calculate a (average distance to the same cluster)\n",
    "        same_cluster_distances = [\n",
    "            euclidean_distance(current_point, all_points[j])\n",
    "            for j in range(n) if labels[j] == current_label and j != i\n",
    "        ]\n",
    "        a = np.mean(same_cluster_distances) if same_cluster_distances else 0\n",
    "        \n",
    "        # Calculate b (minimum average distance to other clusters)\n",
    "        other_cluster_distances = []\n",
    "        for label in set(labels):\n",
    "            if label != current_label:\n",
    "                distances = [\n",
    "                    euclidean_distance(current_point, all_points[j])\n",
    "                    for j in range(n) if labels[j] == label\n",
    "                ]\n",
    "                if distances:\n",
    "                    other_cluster_distances.append(np.mean(distances))\n",
    "\n",
    "        b = min(other_cluster_distances) if other_cluster_distances else 0\n",
    "        \n",
    "        # Calculate the silhouette score for this point\n",
    "        score = (b - a) / max(a, b) if max(a, b) != 0 else 0\n",
    "        scores.append(score)\n",
    "\n",
    "    return np.array(scores)\n",
    "\n",
    "# Labels for the points in all_points\n",
    "labels = np.array([1]*3 + [2]*3 + [3]*3)  # Cluster 1: label 1, Cluster 2: label 2, Cluster 3: label 3\n",
    "\n",
    "# Calculate the silhouette scores\n",
    "scores = silhouette_score(all_points, labels)\n",
    "\n",
    "# Print the silhouette scores for each point and the average score\n",
    "for i, score in enumerate(scores):\n",
    "    print(f\"Point {i + 1}: Silhouette Score = {score:.4f}\")\n",
    "\n",
    "average_score = np.mean(scores)\n",
    "print(f\"\\nAverage Silhouette Score: {average_score:.4f}\")\n"
   ]
  },
  {
   "cell_type": "markdown",
   "metadata": {},
   "source": [
    "### Davies-Bouldin Index"
   ]
  },
  {
   "cell_type": "code",
   "execution_count": 8,
   "metadata": {},
   "outputs": [
    {
     "name": "stdout",
     "output_type": "stream",
     "text": [
      "1 0.41459587266912035\n",
      "2 0.4296313927591706\n",
      "3 0.4296313927591706\n",
      "Davies-Bouldin Index: 0.4246\n"
     ]
    }
   ],
   "source": [
    "import numpy as np\n",
    "\n",
    "# Function to calculate Euclidean distance\n",
    "def euclidean_distance(a, b):\n",
    "    return np.linalg.norm(a - b)\n",
    "\n",
    "# Function to calculate the centroid of a cluster\n",
    "def calculate_centroid(cluster):\n",
    "    return np.mean(cluster, axis=0)\n",
    "\n",
    "# Function to calculate the intra-cluster distance for each cluster\n",
    "def calculate_intra_distance(cluster, centroid):\n",
    "    return np.mean([euclidean_distance(point, centroid) for point in cluster])\n",
    "\n",
    "# Function to calculate the Davies-Bouldin Index\n",
    "def davies_bouldin_index(clusters):\n",
    "    n_clusters = len(clusters)\n",
    "    centroids = [calculate_centroid(cluster) for cluster in clusters]\n",
    "    \n",
    "    # Calculate intra-cluster distances\n",
    "    S = [calculate_intra_distance(clusters[i], centroids[i]) for i in range(n_clusters)]\n",
    "\n",
    "    # Calculate the Davies-Bouldin Index\n",
    "    DBI = 0\n",
    "    for i in range(n_clusters):\n",
    "        max_ratio = 0\n",
    "        for j in range(n_clusters):\n",
    "            if i != j:\n",
    "                M_ij = euclidean_distance(centroids[i], centroids[j])\n",
    "                ratio = (S[i] + S[j]) / M_ij\n",
    "                max_ratio = max(max_ratio, ratio)\n",
    "        print(i+1, max_ratio)\n",
    "        DBI += max_ratio\n",
    "    \n",
    "    # Return average DBI\n",
    "    return DBI / n_clusters\n",
    "\n",
    "# Example data: a list of clusters with points\n",
    "clusters = [\n",
    "    np.array([[2, 5], [3, 4], [4, 6]]),  # Cluster 1\n",
    "    np.array([[8, 3], [9, 2], [10, 5]]),  # Cluster 2\n",
    "    np.array([[6, 10], [7, 8], [8, 9]])   # Cluster 3\n",
    "]\n",
    "\n",
    "# Calculate Davies-Bouldin Index\n",
    "db_index = davies_bouldin_index(clusters)\n",
    "\n",
    "print(f\"Davies-Bouldin Index: {db_index:.4f}\")\n"
   ]
  },
  {
   "cell_type": "markdown",
   "metadata": {},
   "source": [
    "### Within-Cluster Sum of Squares"
   ]
  },
  {
   "cell_type": "code",
   "execution_count": 9,
   "metadata": {},
   "outputs": [
    {
     "name": "stdout",
     "output_type": "stream",
     "text": [
      "Cluster 1 WCSS: 4.0000\n",
      "Cluster 2 WCSS: 6.6667\n",
      "Cluster 3 WCSS: 4.0000\n",
      "Total WCSS: 14.6667\n"
     ]
    }
   ],
   "source": [
    "import numpy as np\n",
    "\n",
    "# Function to calculate centroid of a cluster\n",
    "def calculate_centroid(cluster):\n",
    "    return np.mean(cluster, axis=0)\n",
    "\n",
    "# Function to calculate WCSS for a cluster\n",
    "def calculate_wcss(cluster, centroid):\n",
    "    return np.sum(np.linalg.norm(cluster - centroid, axis=1) ** 2)\n",
    "\n",
    "# Function to calculate WCSS for multiple clusters\n",
    "def calculate_wcss_for_clusters(clusters):\n",
    "    total_wcss = 0\n",
    "    wcss_per_cluster = {}\n",
    "    \n",
    "    # Iterate over each cluster\n",
    "    for i, cluster in enumerate(clusters):\n",
    "        centroid = calculate_centroid(cluster)\n",
    "        wcss = calculate_wcss(cluster, centroid)\n",
    "        wcss_per_cluster[f\"Cluster {i + 1}\"] = wcss\n",
    "        total_wcss += wcss  # Accumulate total WCSS\n",
    "    \n",
    "    return wcss_per_cluster, total_wcss\n",
    "\n",
    "# Example usage\n",
    "# Define multiple clusters (can be any number of clusters)\n",
    "clusters = [\n",
    "    np.array([[2, 5], [3, 4], [4, 6]]),  # Cluster 1\n",
    "    np.array([[8, 3], [9, 2], [10, 5]]),  # Cluster 2\n",
    "    np.array([[6, 10], [7, 8], [8, 9]]),  # Cluster 3\n",
    "]\n",
    "\n",
    "# Calculate WCSS for all clusters\n",
    "wcss_per_cluster, total_wcss = calculate_wcss_for_clusters(clusters)\n",
    "\n",
    "# Print the WCSS results\n",
    "for cluster, wcss in wcss_per_cluster.items():\n",
    "    print(f\"{cluster} WCSS: {wcss:.4f}\")\n",
    "\n",
    "print(f\"Total WCSS: {total_wcss:.4f}\")\n"
   ]
  },
  {
   "cell_type": "markdown",
   "metadata": {},
   "source": [
    "### Dunn's Index"
   ]
  },
  {
   "cell_type": "code",
   "execution_count": 10,
   "metadata": {},
   "outputs": [
    {
     "name": "stdout",
     "output_type": "stream",
     "text": [
      "Dunn's Index: 1.1402\n"
     ]
    }
   ],
   "source": [
    "import numpy as np\n",
    "from itertools import combinations\n",
    "\n",
    "def euclidean_distance(point1, point2):\n",
    "    return np.linalg.norm(point1 - point2)\n",
    "\n",
    "def cluster_diameter(cluster):\n",
    "    \"\"\"Calculate the diameter of a cluster.\"\"\"\n",
    "    max_distance = 0\n",
    "    for point1, point2 in combinations(cluster, 2):\n",
    "        distance = euclidean_distance(point1, point2)\n",
    "        if distance > max_distance:\n",
    "            max_distance = distance\n",
    "    return max_distance\n",
    "\n",
    "def min_inter_cluster_distance(clusters):\n",
    "    \"\"\"Calculate minimum distance between clusters.\"\"\"\n",
    "    min_distance = float('inf')\n",
    "    for (i, cluster_a), (j, cluster_b) in combinations(enumerate(clusters), 2):\n",
    "        for point_a in cluster_a:\n",
    "            for point_b in cluster_b:\n",
    "                distance = euclidean_distance(point_a, point_b)\n",
    "                if distance < min_distance:\n",
    "                    min_distance = distance\n",
    "    return min_distance\n",
    "\n",
    "def dunn_index(clusters):\n",
    "    \"\"\"Calculate Dunn's index for the given clusters.\"\"\"\n",
    "    min_distance = min_inter_cluster_distance(clusters)\n",
    "    max_diameter = max(cluster_diameter(cluster) for cluster in clusters)\n",
    "    return min_distance / max_diameter\n",
    "\n",
    "# Define clusters as numpy arrays\n",
    "clusters = [\n",
    "    np.array([[2, 5], [3, 4], [4, 6]]),  # Cluster 1\n",
    "    np.array([[8, 3], [9, 2], [10, 5]]),  # Cluster 2\n",
    "    np.array([[6, 10], [7, 8], [8, 9]])   # Cluster 3\n",
    "]\n",
    "\n",
    "# Calculate Dunn's index\n",
    "dunn_index_value = dunn_index(clusters)\n",
    "print(f\"Dunn's Index: {dunn_index_value:.4f}\")"
   ]
  }
 ],
 "metadata": {
  "kernelspec": {
   "display_name": "Python 3",
   "language": "python",
   "name": "python3"
  },
  "language_info": {
   "codemirror_mode": {
    "name": "ipython",
    "version": 3
   },
   "file_extension": ".py",
   "mimetype": "text/x-python",
   "name": "python",
   "nbconvert_exporter": "python",
   "pygments_lexer": "ipython3",
   "version": "3.9.6"
  }
 },
 "nbformat": 4,
 "nbformat_minor": 2
}
